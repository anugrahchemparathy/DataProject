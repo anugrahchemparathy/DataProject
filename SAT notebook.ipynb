{
 "cells": [
  {
   "cell_type": "markdown",
   "metadata": {},
   "source": [
    "# SAT Scores data set"
   ]
  },
  {
   "cell_type": "markdown",
   "metadata": {},
   "source": [
    "### Introduction"
   ]
  },
  {
   "cell_type": "markdown",
   "metadata": {},
   "source": [
    "The Wakandan Institute of Technology (WIT) wishes to assess the effectiveness of their admission criteria. The main question was: How predictive are SAT score of students' success over their first year. For this, WIT's chief officer of statistics gathered a random sample of 670 newly admitted students.\n",
    "\n",
    "Each student in the sample took 4 basic STEM courses in the first semester:\n",
    "- Calculus 1\n",
    "- Introduction to Computer Science\n",
    "- Classical Mechanics\n",
    "- Introduction to Biology\n",
    "\n",
    "For each student, his/her SAT scores, prior to admission, were recorded. Moreover, at the end of the first semester, the grade of each of the four courses above were marked for every students.\n",
    "\n",
    "The data appears in the file 'SAT.csv'.\n",
    "\n",
    "Your job is to analyze the data and prove that there is no connection between SAT scores and grades in first years courses. \n",
    "However, if you choose to, you may also try to convince of any possible meaningful and informative connection between the SAT scores and the grades in the courses.\n"
   ]
  },
  {
   "cell_type": "markdown",
   "metadata": {},
   "source": [
    "### Notebook"
   ]
  },
  {
   "cell_type": "markdown",
   "metadata": {},
   "source": [
    "The following imports always make sense."
   ]
  },
  {
   "cell_type": "code",
   "execution_count": 1,
   "metadata": {},
   "outputs": [],
   "source": [
    "import pandas as pd\n",
    "import numpy as np\n",
    "import statsmodels.api as sm\n",
    "import matplotlib.pyplot as plt"
   ]
  },
  {
   "cell_type": "code",
   "execution_count": 2,
   "metadata": {},
   "outputs": [],
   "source": [
    "%matplotlib inline"
   ]
  },
  {
   "cell_type": "markdown",
   "metadata": {},
   "source": [
    "You may now read the data file."
   ]
  },
  {
   "cell_type": "code",
   "execution_count": 3,
   "metadata": {},
   "outputs": [],
   "source": [
    "data = pd.read_csv(\"SAT.csv\")"
   ]
  },
  {
   "cell_type": "markdown",
   "metadata": {},
   "source": [
    "Each row of the data represents a single student."
   ]
  },
  {
   "cell_type": "markdown",
   "metadata": {},
   "source": [
    "You may use the rest of the notebook for your analysis."
   ]
  },
  {
   "cell_type": "code",
   "execution_count": 4,
   "metadata": {},
   "outputs": [
    {
     "name": "stdout",
     "output_type": "stream",
     "text": [
      "\"SAT score\"\n",
      "\"Unnamed: 1\"\n",
      "\"Unnamed: 2\"\n",
      "\"Calculus I final score\"\n",
      "\"Introduction to Computer Science final score\"\n",
      "\"Classical Mechanics final score\"\n",
      "\"Introduction to Biology final score\"\n"
     ]
    }
   ],
   "source": [
    "for col in data.columns:\n",
    "    print(\"\\\"\" + col + \"\\\"\")"
   ]
  },
  {
   "cell_type": "code",
   "execution_count": 5,
   "metadata": {},
   "outputs": [],
   "source": [
    "data.drop(['Unnamed: 1', 'Unnamed: 2'], inplace=True, axis=1)"
   ]
  },
  {
   "cell_type": "code",
   "execution_count": 8,
   "metadata": {},
   "outputs": [],
   "source": [
    "data = data.rename(columns={'SAT score': 'SAT', \n",
    "                        'Calculus I final score': 'WIT_1',\n",
    "                        'Introduction to Computer Science final score': 'WIT_2',\n",
    "                        'Classical Mechanics final score': 'WIT_3',\n",
    "                        'Introduction to Biology final score': 'WIT_4',\n",
    "                       })\n"
   ]
  },
  {
   "cell_type": "code",
   "execution_count": 9,
   "metadata": {},
   "outputs": [
    {
     "name": "stdout",
     "output_type": "stream",
     "text": [
      "      SAT  WIT_1  WIT_2  WIT_3  WIT_4\n",
      "0    1547     78     75     81     68\n",
      "1    1521     70     78     74     94\n",
      "2    1471     76     88     67     95\n",
      "3    1532     70     71     46     67\n",
      "4    1554     82     69     65     86\n",
      "..    ...    ...    ...    ...    ...\n",
      "665  1535     73     76     71     82\n",
      "666  1503     87     75     77     85\n",
      "667  1492     76     71     77     76\n",
      "668  1487     92     75     65     71\n",
      "669  1565     67     72     72     86\n",
      "\n",
      "[670 rows x 5 columns]\n"
     ]
    }
   ],
   "source": [
    "print(data)"
   ]
  },
  {
   "cell_type": "code",
   "execution_count": 11,
   "metadata": {},
   "outputs": [
    {
     "name": "stdout",
     "output_type": "stream",
     "text": [
      "0      1547\n",
      "1      1521\n",
      "2      1471\n",
      "3      1532\n",
      "4      1554\n",
      "       ... \n",
      "665    1535\n",
      "666    1503\n",
      "667    1492\n",
      "668    1487\n",
      "669    1565\n",
      "Name: SAT, Length: 670, dtype: int64\n"
     ]
    }
   ],
   "source": [
    "print(data['SAT'])"
   ]
  },
  {
   "cell_type": "code",
   "execution_count": 12,
   "metadata": {},
   "outputs": [
    {
     "name": "stdout",
     "output_type": "stream",
     "text": [
      "SAT      1547\n",
      "WIT_1      78\n",
      "WIT_2      75\n",
      "WIT_3      81\n",
      "WIT_4      68\n",
      "Name: 0, dtype: int64\n"
     ]
    }
   ],
   "source": [
    "print(data.loc[0])"
   ]
  },
  {
   "cell_type": "markdown",
   "metadata": {},
   "source": [
    "Attempting correlation test from here: https://machinelearningmastery.com/how-to-use-correlation-to-understand-the-relationship-between-variables/"
   ]
  },
  {
   "cell_type": "code",
   "execution_count": 13,
   "metadata": {},
   "outputs": [
    {
     "data": {
      "text/plain": [
       "'\\nAlready have the following imports\\n\\nimport pandas as pd\\nimport numpy as np\\nimport statsmodels.api as sm\\nimport matplotlib.pyplot as plt\\n'"
      ]
     },
     "execution_count": 13,
     "metadata": {},
     "output_type": "execute_result"
    }
   ],
   "source": [
    "# generate related variables\n",
    "from numpy import mean\n",
    "from numpy import std\n",
    "from numpy.random import randn\n",
    "from numpy.random import seed\n",
    "\n",
    "\n",
    "\"\"\"\n",
    "Already have the following imports\n",
    "\n",
    "import pandas as pd\n",
    "import numpy as np\n",
    "import statsmodels.api as sm\n",
    "import matplotlib.pyplot as plt\n",
    "\"\"\""
   ]
  },
  {
   "cell_type": "code",
   "execution_count": 53,
   "metadata": {},
   "outputs": [
    {
     "data": {
      "image/png": "[encoded data removed]",
      "text/plain": [
       "<Figure size 432x288 with 4 Axes>"
      ]
     },
     "metadata": {
      "needs_background": "light"
     },
     "output_type": "display_data"
    }
   ],
   "source": [
    "#plotting them all together wasn't very good for visualization\n",
    "\n",
    "figure, axes = plt.subplots(1, 4)\n",
    "data.plot(kind='scatter',x='SAT',y='WIT_1',color='red', ax=axes[0])\n",
    "data.plot(kind='scatter',x='SAT',y='WIT_2',color='red', ax=axes[1])\n",
    "data.plot(kind='scatter',x='SAT',y='WIT_3',color='red', ax=axes[2])\n",
    "data.plot(kind='scatter',x='SAT',y='WIT_4',color='red', ax=axes[3])\n",
    "\n",
    "plt.subplots_adjust(wspace=1, hspace=1)\n"
   ]
  },
  {
   "cell_type": "code",
   "execution_count": 43,
   "metadata": {},
   "outputs": [
    {
     "data": {
      "image/png": "[encoded data removed]",
      "text/plain": [
       "<Figure size 432x288 with 1 Axes>"
      ]
     },
     "metadata": {
      "needs_background": "light"
     },
     "output_type": "display_data"
    }
   ],
   "source": [
    "#works a lot better, just change y='WIT_n' to n = 1,2,3,4 as you need\n",
    "\n",
    "data.plot(kind='scatter',x='SAT',y='WIT_4',color='red')\n",
    "plt.show()"
   ]
  },
  {
   "cell_type": "markdown",
   "metadata": {},
   "source": [
    "References on statsmodels.api:\n",
    "https://www.statsmodels.org/devel/generated/statsmodels.regression.linear_model.OLS.html\n",
    "https://stackoverflow.com/questions/57385279/what-is-the-difference-between-statsmodels-api-sm-ols-and-statsmodels-formula-ap\n",
    "\n",
    "\n",
    "Why a t-test for linear regression?\n",
    "https://stats.stackexchange.com/questions/344006/understanding-t-test-for-linear-regression"
   ]
  },
  {
   "cell_type": "code",
   "execution_count": 42,
   "metadata": {},
   "outputs": [
    {
     "data": {
      "text/html": [
       "<div>\n",
       "<style scoped>\n",
       "    .dataframe tbody tr th:only-of-type {\n",
       "        vertical-align: middle;\n",
       "    }\n",
       "\n",
       "    .dataframe tbody tr th {\n",
       "        vertical-align: top;\n",
       "    }\n",
       "\n",
       "    .dataframe thead th {\n",
       "        text-align: right;\n",
       "    }\n",
       "</style>\n",
       "<table border=\"1\" class=\"dataframe\">\n",
       "  <thead>\n",
       "    <tr style=\"text-align: right;\">\n",
       "      <th></th>\n",
       "      <th>SAT</th>\n",
       "      <th>WIT_1</th>\n",
       "      <th>WIT_2</th>\n",
       "      <th>WIT_3</th>\n",
       "      <th>WIT_4</th>\n",
       "    </tr>\n",
       "  </thead>\n",
       "  <tbody>\n",
       "    <tr>\n",
       "      <th>SAT</th>\n",
       "      <td>838.270120</td>\n",
       "      <td>-2.426067</td>\n",
       "      <td>-10.198055</td>\n",
       "      <td>0.964233</td>\n",
       "      <td>6.118167</td>\n",
       "    </tr>\n",
       "    <tr>\n",
       "      <th>WIT_1</th>\n",
       "      <td>-2.426067</td>\n",
       "      <td>96.046083</td>\n",
       "      <td>-1.764219</td>\n",
       "      <td>-3.649640</td>\n",
       "      <td>-1.105316</td>\n",
       "    </tr>\n",
       "    <tr>\n",
       "      <th>WIT_2</th>\n",
       "      <td>-10.198055</td>\n",
       "      <td>-1.764219</td>\n",
       "      <td>39.477536</td>\n",
       "      <td>1.397068</td>\n",
       "      <td>3.165888</td>\n",
       "    </tr>\n",
       "    <tr>\n",
       "      <th>WIT_3</th>\n",
       "      <td>0.964233</td>\n",
       "      <td>-3.649640</td>\n",
       "      <td>1.397068</td>\n",
       "      <td>135.062276</td>\n",
       "      <td>-2.639765</td>\n",
       "    </tr>\n",
       "    <tr>\n",
       "      <th>WIT_4</th>\n",
       "      <td>6.118167</td>\n",
       "      <td>-1.105316</td>\n",
       "      <td>3.165888</td>\n",
       "      <td>-2.639765</td>\n",
       "      <td>76.607994</td>\n",
       "    </tr>\n",
       "  </tbody>\n",
       "</table>\n",
       "</div>"
      ],
      "text/plain": [
       "              SAT      WIT_1      WIT_2       WIT_3      WIT_4\n",
       "SAT    838.270120  -2.426067 -10.198055    0.964233   6.118167\n",
       "WIT_1   -2.426067  96.046083  -1.764219   -3.649640  -1.105316\n",
       "WIT_2  -10.198055  -1.764219  39.477536    1.397068   3.165888\n",
       "WIT_3    0.964233  -3.649640   1.397068  135.062276  -2.639765\n",
       "WIT_4    6.118167  -1.105316   3.165888   -2.639765  76.607994"
      ]
     },
     "execution_count": 42,
     "metadata": {},
     "output_type": "execute_result"
    }
   ],
   "source": [
    "\"\"\"\n",
    "Computing the covariance matrix of the data:\n",
    "    - WIT_1 = Calc 1\n",
    "    - WIT_2 = Intro to CS\n",
    "    - WIT_3 = Classical Mechanics\n",
    "    - WIT_4 = Intro to Bio\n",
    "\n",
    "Ref\n",
    "https://www.w3resource.com/pandas/dataframe/dataframe-cov.php#:~:text=Compute%20the%20pairwise%20covariance%20among,the%20columns%20of%20the%20DataFrame.&text=Minimum%20number%20of%20observations%20required,to%20have%20a%20valid%20result.\n",
    "\"\"\"\n",
    "\n",
    "data.cov()"
   ]
  },
  {
   "cell_type": "code",
   "execution_count": 38,
   "metadata": {},
   "outputs": [],
   "source": [
    "X = data['SAT']\n",
    "Y = data['WIT_3']"
   ]
  },
  {
   "cell_type": "code",
   "execution_count": 41,
   "metadata": {},
   "outputs": [
    {
     "name": "stdout",
     "output_type": "stream",
     "text": [
      "0.0028656477633797793\n",
      "0.002703768789763327\n",
      "0.0017296243071415562\n"
     ]
    }
   ],
   "source": [
    "\"\"\"\n",
    "Computing correlation coefficients: https://realpython.com/numpy-scipy-pandas-correlation-python/#example-pandas-correlation-calculation\n",
    "\"\"\"\n",
    "\n",
    "print(X.corr(Y)) #Pearson's R\n",
    "print(X.corr(Y, method='spearman')) #Spearman's rho\n",
    "print(X.corr(Y, method='kendall')) #Kendall's Tau"
   ]
  },
  {
   "cell_type": "code",
   "execution_count": 35,
   "metadata": {},
   "outputs": [
    {
     "name": "stdout",
     "output_type": "stream",
     "text": [
      "                            OLS Regression Results                            \n",
      "==============================================================================\n",
      "Dep. Variable:                  WIT_3   R-squared:                       0.000\n",
      "Model:                            OLS   Adj. R-squared:                 -0.001\n",
      "Method:                 Least Squares   F-statistic:                  0.005486\n",
      "Date:                Tue, 12 Apr 2022   Prob (F-statistic):              0.941\n",
      "Time:                        00:01:15   Log-Likelihood:                -2593.6\n",
      "No. Observations:                 670   AIC:                             5191.\n",
      "Df Residuals:                     668   BIC:                             5200.\n",
      "Df Model:                           1                                         \n",
      "Covariance Type:            nonrobust                                         \n",
      "==============================================================================\n",
      "                 coef    std err          t      P>|t|      [0.025      0.975]\n",
      "------------------------------------------------------------------------------\n",
      "const         67.9599     23.599      2.880      0.004      21.622     114.297\n",
      "SAT            0.0012      0.016      0.074      0.941      -0.029       0.032\n",
      "==============================================================================\n",
      "Omnibus:                        0.467   Durbin-Watson:                   1.982\n",
      "Prob(Omnibus):                  0.792   Jarque-Bera (JB):                0.339\n",
      "Skew:                          -0.038   Prob(JB):                        0.844\n",
      "Kurtosis:                       3.079   Cond. No.                     7.98e+04\n",
      "==============================================================================\n",
      "\n",
      "Warnings:\n",
      "[1] Standard Errors assume that the covariance matrix of the errors is correctly specified.\n",
      "[2] The condition number is large, 7.98e+04. This might indicate that there are\n",
      "strong multicollinearity or other numerical problems.\n"
     ]
    }
   ],
   "source": [
    "X = sm.add_constant(X)\n",
    "\n",
    "\n",
    "model = sm.OLS(Y,X)\n",
    "#model = sm.OLS(np.log(Y),X)\n",
    "results = model.fit()\n",
    "\n",
    "print(results.summary())"
   ]
  },
  {
   "cell_type": "code",
   "execution_count": 36,
   "metadata": {},
   "outputs": [
    {
     "name": "stdout",
     "output_type": "stream",
     "text": [
      "                             Test for Constraints                             \n",
      "==============================================================================\n",
      "                 coef    std err          t      P>|t|      [0.025      0.975]\n",
      "------------------------------------------------------------------------------\n",
      "c0            67.9599     23.599      2.880      0.004      21.622     114.297\n",
      "==============================================================================\n"
     ]
    }
   ],
   "source": [
    "print(results.t_test([1, 0]))"
   ]
  },
  {
   "cell_type": "code",
   "execution_count": null,
   "metadata": {},
   "outputs": [],
   "source": []
  }
 ],
 "metadata": {
  "kernelspec": {
   "display_name": "Python 3",
   "language": "python",
   "name": "python3"
  },
  "language_info": {
   "codemirror_mode": {
    "name": "ipython",
    "version": 3
   },
   "file_extension": ".py",
   "mimetype": "text/x-python",
   "name": "python",
   "nbconvert_exporter": "python",
   "pygments_lexer": "ipython3",
   "version": "3.7.6"
  }
 },
 "nbformat": 4,
 "nbformat_minor": 4
}

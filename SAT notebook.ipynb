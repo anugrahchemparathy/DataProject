{
 "cells": [
  {
   "cell_type": "markdown",
   "metadata": {},
   "source": [
    "# SAT Scores data set"
   ]
  },
  {
   "cell_type": "markdown",
   "metadata": {},
   "source": [
    "### Introduction"
   ]
  },
  {
   "cell_type": "markdown",
   "metadata": {},
   "source": [
    "The Wakandan Institute of Technology (WIT) wishes to assess the effectiveness of their admission criteria. The main question was: How predictive are SAT score of students' success over their first year. For this, WIT's chief officer of statistics gathered a random sample of 670 newly admitted students.\n",
    "\n",
    "Each student in the sample took 4 basic STEM courses in the first semester:\n",
    "- Calculus 1\n",
    "- Introduction to Computer Science\n",
    "- Classical Mechanics\n",
    "- Introduction to Biology\n",
    "\n",
    "For each student, his/her SAT scores, prior to admission, were recorded. Moreover, at the end of the first semester, the grade of each of the four courses above were marked for every students.\n",
    "\n",
    "The data appears in the file 'SAT.csv'.\n",
    "\n",
    "Your job is to analyze the data and prove that there is no connection between SAT scores and grades in first years courses. \n",
    "However, if you choose to, you may also try to convince of any possible meaningful and informative connection between the SAT scores and the grades in the courses.\n"
   ]
  },
  {
   "cell_type": "markdown",
   "metadata": {},
   "source": [
    "### Notebook"
   ]
  },
  {
   "cell_type": "markdown",
   "metadata": {},
   "source": [
    "The following imports always make sense."
   ]
  },
  {
   "cell_type": "code",
   "execution_count": 1,
   "metadata": {},
   "outputs": [],
   "source": [
    "import pandas as pd\n",
    "import numpy as np\n",
    "import statsmodels.api as sm\n",
    "import matplotlib.pyplot as plt"
   ]
  },
  {
   "cell_type": "code",
   "execution_count": 2,
   "metadata": {},
   "outputs": [],
   "source": [
    "%matplotlib inline"
   ]
  },
  {
   "cell_type": "markdown",
   "metadata": {},
   "source": [
    "You may now read the data file."
   ]
  },
  {
   "cell_type": "code",
   "execution_count": 3,
   "metadata": {},
   "outputs": [],
   "source": [
    "data = pd.read_csv(\"SAT.csv\")"
   ]
  },
  {
   "cell_type": "markdown",
   "metadata": {},
   "source": [
    "Each row of the data represents a single student."
   ]
  },
  {
   "cell_type": "markdown",
   "metadata": {},
   "source": [
    "You may use the rest of the notebook for your analysis."
   ]
  },
  {
   "cell_type": "code",
   "execution_count": 4,
   "metadata": {},
   "outputs": [
    {
     "name": "stdout",
     "output_type": "stream",
     "text": [
      "\"SAT score\"\n",
      "\"Unnamed: 1\"\n",
      "\"Unnamed: 2\"\n",
      "\"Calculus I final score\"\n",
      "\"Introduction to Computer Science final score\"\n",
      "\"Classical Mechanics final score\"\n",
      "\"Introduction to Biology final score\"\n"
     ]
    }
   ],
   "source": [
    "for col in data.columns:\n",
    "    print(\"\\\"\" + col + \"\\\"\")"
   ]
  },
  {
   "cell_type": "code",
   "execution_count": 5,
   "metadata": {},
   "outputs": [],
   "source": [
    "data.drop(['Unnamed: 1', 'Unnamed: 2'], inplace=True, axis=1)"
   ]
  },
  {
   "cell_type": "code",
   "execution_count": 8,
   "metadata": {},
   "outputs": [],
   "source": [
    "data = data.rename(columns={'SAT score': 'SAT', \n",
    "                        'Calculus I final score': 'WIT_1',\n",
    "                        'Introduction to Computer Science final score': 'WIT_2',\n",
    "                        'Classical Mechanics final score': 'WIT_3',\n",
    "                        'Introduction to Biology final score': 'WIT_4',\n",
    "                       })\n"
   ]
  },
  {
   "cell_type": "code",
   "execution_count": 9,
   "metadata": {},
   "outputs": [
    {
     "name": "stdout",
     "output_type": "stream",
     "text": [
      "      SAT  WIT_1  WIT_2  WIT_3  WIT_4\n",
      "0    1547     78     75     81     68\n",
      "1    1521     70     78     74     94\n",
      "2    1471     76     88     67     95\n",
      "3    1532     70     71     46     67\n",
      "4    1554     82     69     65     86\n",
      "..    ...    ...    ...    ...    ...\n",
      "665  1535     73     76     71     82\n",
      "666  1503     87     75     77     85\n",
      "667  1492     76     71     77     76\n",
      "668  1487     92     75     65     71\n",
      "669  1565     67     72     72     86\n",
      "\n",
      "[670 rows x 5 columns]\n"
     ]
    }
   ],
   "source": [
    "print(data)"
   ]
  },
  {
   "cell_type": "code",
   "execution_count": 11,
   "metadata": {},
   "outputs": [
    {
     "name": "stdout",
     "output_type": "stream",
     "text": [
      "0      1547\n",
      "1      1521\n",
      "2      1471\n",
      "3      1532\n",
      "4      1554\n",
      "       ... \n",
      "665    1535\n",
      "666    1503\n",
      "667    1492\n",
      "668    1487\n",
      "669    1565\n",
      "Name: SAT, Length: 670, dtype: int64\n"
     ]
    }
   ],
   "source": [
    "print(data['SAT'])"
   ]
  },
  {
   "cell_type": "code",
   "execution_count": 12,
   "metadata": {},
   "outputs": [
    {
     "name": "stdout",
     "output_type": "stream",
     "text": [
      "SAT      1547\n",
      "WIT_1      78\n",
      "WIT_2      75\n",
      "WIT_3      81\n",
      "WIT_4      68\n",
      "Name: 0, dtype: int64\n"
     ]
    }
   ],
   "source": [
    "print(data.loc[0])"
   ]
  },
  {
   "cell_type": "markdown",
   "metadata": {},
   "source": [
    "Attempting correlation test from here: https://machinelearningmastery.com/how-to-use-correlation-to-understand-the-relationship-between-variables/"
   ]
  },
  {
   "cell_type": "code",
   "execution_count": 13,
   "metadata": {},
   "outputs": [
    {
     "data": {
      "text/plain": [
       "'\\nAlready have the following imports\\n\\nimport pandas as pd\\nimport numpy as np\\nimport statsmodels.api as sm\\nimport matplotlib.pyplot as plt\\n'"
      ]
     },
     "execution_count": 13,
     "metadata": {},
     "output_type": "execute_result"
    }
   ],
   "source": [
    "# generate related variables\n",
    "from numpy import mean\n",
    "from numpy import std\n",
    "from numpy.random import randn\n",
    "from numpy.random import seed\n",
    "\n",
    "\n",
    "\"\"\"\n",
    "Already have the following imports\n",
    "\n",
    "import pandas as pd\n",
    "import numpy as np\n",
    "import statsmodels.api as sm\n",
    "import matplotlib.pyplot as plt\n",
    "\"\"\""
   ]
  },
  {
   "cell_type": "code",
   "execution_count": 21,
   "metadata": {},
   "outputs": [
    {
     "data": {
      "image/png": "[encoded data removed]",
      "text/plain": [
       "<Figure size 432x288 with 1 Axes>"
      ]
     },
     "metadata": {
      "needs_background": "light"
     },
     "output_type": "display_data"
    }
   ],
   "source": [
    "data.plot(kind='scatter',x='SAT',y='WIT_1',color='red')\n",
    "plt.show()"
   ]
  },
  {
   "cell_type": "code",
   "execution_count": 19,
   "metadata": {},
   "outputs": [
    {
     "data": {
      "image/png": "[encoded data removed]",
      "text/plain": [
       "<Figure size 432x288 with 1 Axes>"
      ]
     },
     "metadata": {
      "needs_background": "light"
     },
     "output_type": "display_data"
    }
   ],
   "source": [
    "data.plot(kind='scatter',x='SAT',y='WIT_2',color='red')\n",
    "plt.show()"
   ]
  },
  {
   "cell_type": "code",
   "execution_count": 20,
   "metadata": {},
   "outputs": [
    {
     "data": {
      "image/png": "[encoded data removed]",
      "text/plain": [
       "<Figure size 432x288 with 1 Axes>"
      ]
     },
     "metadata": {
      "needs_background": "light"
     },
     "output_type": "display_data"
    }
   ],
   "source": [
    "data.plot(kind='scatter',x='SAT',y='WIT_3',color='red')\n",
    "plt.show()"
   ]
  },
  {
   "cell_type": "markdown",
   "metadata": {},
   "source": [
    "References on statsmodels.api:\n",
    "https://www.statsmodels.org/devel/generated/statsmodels.regression.linear_model.OLS.html\n",
    "https://stackoverflow.com/questions/57385279/what-is-the-difference-between-statsmodels-api-sm-ols-and-statsmodels-formula-ap\n"
   ]
  },
  {
   "cell_type": "code",
   "execution_count": 23,
   "metadata": {},
   "outputs": [
    {
     "name": "stdout",
     "output_type": "stream",
     "text": [
      "                            OLS Regression Results                            \n",
      "==============================================================================\n",
      "Dep. Variable:                  WIT_1   R-squared:                       0.000\n",
      "Model:                            OLS   Adj. R-squared:                 -0.001\n",
      "Method:                 Least Squares   F-statistic:                   0.04884\n",
      "Date:                Mon, 11 Apr 2022   Prob (F-statistic):              0.825\n",
      "Time:                        19:55:15   Log-Likelihood:                -2479.4\n",
      "No. Observations:                 670   AIC:                             4963.\n",
      "Df Residuals:                     668   BIC:                             4972.\n",
      "Df Model:                           1                                         \n",
      "Covariance Type:            nonrobust                                         \n",
      "==============================================================================\n",
      "                 coef    std err          t      P>|t|      [0.025      0.975]\n",
      "------------------------------------------------------------------------------\n",
      "const         77.6388     19.900      3.901      0.000      38.564     116.713\n",
      "SAT           -0.0029      0.013     -0.221      0.825      -0.029       0.023\n",
      "==============================================================================\n",
      "Omnibus:                        4.370   Durbin-Watson:                   1.907\n",
      "Prob(Omnibus):                  0.112   Jarque-Bera (JB):                4.409\n",
      "Skew:                          -0.178   Prob(JB):                        0.110\n",
      "Kurtosis:                       2.823   Cond. No.                     7.98e+04\n",
      "==============================================================================\n",
      "\n",
      "Warnings:\n",
      "[1] Standard Errors assume that the covariance matrix of the errors is correctly specified.\n",
      "[2] The condition number is large, 7.98e+04. This might indicate that there are\n",
      "strong multicollinearity or other numerical problems.\n"
     ]
    }
   ],
   "source": [
    "X = data['SAT']\n",
    "X = sm.add_constant(X)\n",
    "Y = data['WIT_1']\n",
    "\n",
    "model = sm.OLS(Y,X)\n",
    "results = model.fit()\n",
    "\n",
    "print(results.summary())"
   ]
  },
  {
   "cell_type": "code",
   "execution_count": 24,
   "metadata": {},
   "outputs": [
    {
     "name": "stdout",
     "output_type": "stream",
     "text": [
      "                             Test for Constraints                             \n",
      "==============================================================================\n",
      "                 coef    std err          t      P>|t|      [0.025      0.975]\n",
      "------------------------------------------------------------------------------\n",
      "c0            77.6388     19.900      3.901      0.000      38.564     116.713\n",
      "==============================================================================\n"
     ]
    }
   ],
   "source": [
    "print(results.t_test([1, 0]))"
   ]
  },
  {
   "cell_type": "code",
   "execution_count": null,
   "metadata": {},
   "outputs": [],
   "source": []
  }
 ],
 "metadata": {
  "kernelspec": {
   "display_name": "Python 3",
   "language": "python",
   "name": "python3"
  },
  "language_info": {
   "codemirror_mode": {
    "name": "ipython",
    "version": 3
   },
   "file_extension": ".py",
   "mimetype": "text/x-python",
   "name": "python",
   "nbconvert_exporter": "python",
   "pygments_lexer": "ipython3",
   "version": "3.7.6"
  }
 },
 "nbformat": 4,
 "nbformat_minor": 4
}
